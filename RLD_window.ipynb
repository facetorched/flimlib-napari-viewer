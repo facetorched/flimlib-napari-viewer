{
 "cells": [
  {
   "cell_type": "code",
   "execution_count": 2,
   "id": "04e28a11-4c48-448f-bbd4-df1644416071",
   "metadata": {},
   "outputs": [],
   "source": [
    "import napari\n",
    "import h5py\n",
    "import tifffile\n",
    "import flimlib\n",
    "import numpy as np\n",
    "from napari.qt import thread_worker\n",
    "import time\n",
    "from matplotlib.backends.backend_qt5agg import FigureCanvas\n",
    "from matplotlib.figure import Figure\n",
    "import matplotlib.pyplot as plt\n",
    "import math"
   ]
  },
  {
   "cell_type": "code",
   "execution_count": 4,
   "id": "6849f63b-0201-4ac6-90d8-a32ff9772269",
   "metadata": {},
   "outputs": [],
   "source": [
    "hf1 = h5py.File('data_ch2_med_photons.h5', 'r') # change filename\n",
    "keys= [key for key in hf1.keys()]\n",
    "\n",
    "def fit_RLD(exp_curve):\n",
    "    rld_result = flimlib.GCI_triple_integral_fitting_engine(1.0,exp_curve,chisq_target=1.0) # take the peak and call that the start for the sum of all pixel. can choose start and end\n",
    "    return(rld_result.tau, rld_result.A, rld_result.chisq)\n",
    "\n",
    "def update_window():\n",
    "    \n",
    "    display = np.array(cumulative_tau_display)\n",
    "    tau_layer.contrast_limits = (0,display.max()) # must happen before setting layer.data\n",
    "    tau_layer.data = display\n",
    "    \n",
    "    display = np.array(cumulative_A_display)\n",
    "    A_layer.contrast_limits = (0,display.max()) # must happen before setting layer.data\n",
    "    A_layer.data = display\n",
    "    \n",
    "    display = np.array(cumulative_chisq_display)\n",
    "    chisq_layer.contrast_limits = (0,display.max()) # must happen before setting layer.data\n",
    "    chisq_layer.data = display\n",
    "    \n",
    "    \n",
    "    \n",
    "    viewer.dims.set_current_step(0,len(display)) # view the most recent RLD result\n",
    "    \n",
    "    update_plots(None)\n",
    "\n",
    "def update_plots(event):\n",
    "    step = viewer.dims.current_step[0]\n",
    "    \n",
    "    ax1.clear()\n",
    "    time_bins = len(cumulative_fitted_hist[step])\n",
    "    ax1.bar(range(time_bins),cumulative_fitted_hist[step])\n",
    "    ax1.bar(range(time_bins),cumulative_not_fitted_hist[step])\n",
    "    \n",
    "    display = np.array(cumulative_tau_display)\n",
    "    ax2.clear()\n",
    "    ax2.hist(display[step][display[step]>0],bins=100) # only nonzero taus\n",
    "    \n",
    "    canvas.draw()\n",
    "    #canvas.flush_events()\n",
    "\n",
    "@thread_worker(connect={'yielded': update_window})\n",
    "def stack_pipeline(stacks):\n",
    "    for stack in stacks:\n",
    "        process_stack(stack)\n",
    "        yield\n",
    "    print(\"done\")\n",
    "    \n",
    "def process_stack(stack):\n",
    "    global cumulative_tau_display\n",
    "    global cumulative_A_display\n",
    "    global cumulative_chisq_display\n",
    "    global cumulative_fitted_hist\n",
    "    global cumulative_not_fitted_hist\n",
    "    # what should be used to find fit start and fit end in general?\n",
    "    fit_start = 50\n",
    "    fit_end = 210\n",
    "    fit_data = np.array(stack)[:,:,fit_start:fit_end]\n",
    "\n",
    "    flim_py = np.apply_along_axis(fit_RLD,2,fit_data)\n",
    "    tau_matrix = flim_py[:,:,0]\n",
    "    tau_threshold = 10 # not a great way of finding outliers but this works for now\n",
    "    tau_matrix[tau_matrix>tau_threshold] = 0 \n",
    "    cumulative_tau_display += [tau_matrix.tolist()]\n",
    "    \n",
    "    A_matrix = flim_py[:,:,1]\n",
    "    A_threshold = 10\n",
    "    A_matrix[A_matrix>A_threshold] = 0 \n",
    "    cumulative_A_display += [A_matrix.tolist()]\n",
    "    \n",
    "    chisq_matrix = flim_py[:,:,2]\n",
    "    print(fit_data[np.where(np.isnan(chisq_matrix))].tolist())\n",
    "    #print(np.where(np.isnan(chisq_matrix)))\n",
    "    chisq_matrix[np.isnan(chisq_matrix)] = 0\n",
    "    chisq_threshold = 100\n",
    "    chisq_matrix[chisq_matrix>chisq_threshold] = 0 \n",
    "    cumulative_chisq_display += [chisq_matrix.tolist()]\n",
    "\n",
    "    fitted_hist = stack.sum((0,1))\n",
    "    fitted_hist[list(range(fit_start))+list(range(fit_end,len(fitted_hist)))] = 0\n",
    "    cumulative_fitted_hist += [fitted_hist]\n",
    "    not_fitted_hist = stack.sum((0,1))\n",
    "    not_fitted_hist[range(fit_start,fit_end)] = 0\n",
    "    cumulative_not_fitted_hist += [not_fitted_hist]\n"
   ]
  },
  {
   "cell_type": "code",
   "execution_count": 6,
   "id": "e3c156e0-9a1a-406b-8b4b-bd42dd129403",
   "metadata": {},
   "outputs": [
    {
     "name": "stdout",
     "output_type": "stream",
     "text": [
      "viewer already closed or never opened\n",
      "[]\n",
      "[]\n",
      "[]\n",
      "done\n"
     ]
    }
   ],
   "source": [
    "# check if viewer is already open\n",
    "# if yes: close and reopen\n",
    "try:\n",
    "    if viewer:\n",
    "        viewer.close()\n",
    "except:\n",
    "    print(\"viewer already closed or never opened\")\n",
    "viewer = napari.Viewer(ndisplay=2)\n",
    "empty = np.zeros((256,256))\n",
    "tau_layer = viewer.add_image(empty, name = \"lifetimes\")\n",
    "A_layer = viewer.add_image(empty, name = \"intensities\")\n",
    "chisq_layer = viewer.add_image(empty, name = \"Χ² scores\")\n",
    "\n",
    "canvas = FigureCanvas(Figure(figsize=(5, 3)))\n",
    "(ax1, ax2) = canvas.figure.subplots(1,2)\n",
    "viewer.window.add_dock_widget(canvas, area='bottom', name='matplotlib figure')    \n",
    "viewer.dims.events.current_step.connect(update_plots,position='last')\n",
    "\n",
    "simulated_input = np.cumsum([np.array(hf1.get(keys[i])) for i in range(3)],axis=0) # histograms arrive summed with previous\n",
    "\n",
    "# global display data so it doesn't need to be recalculated\n",
    "cumulative_fitted_hist = []\n",
    "cumulative_not_fitted_hist = []\n",
    "cumulative_tau_display = []\n",
    "cumulative_A_display = []\n",
    "cumulative_chisq_display = []\n",
    "\n",
    "worker = stack_pipeline(simulated_input)\n",
    "\n",
    "napari.run()"
   ]
  },
  {
   "cell_type": "code",
   "execution_count": 13,
   "id": "9796d4fb-ba0d-41a6-9c54-bf7259f34330",
   "metadata": {},
   "outputs": [
    {
     "data": {
      "text/plain": [
       "array([3, 5])"
      ]
     },
     "execution_count": 13,
     "metadata": {},
     "output_type": "execute_result"
    }
   ],
   "source": [
    "a = np.array([3,4,5])\n",
    "b = [True,False,True]\n",
    "a[np.where(b)]"
   ]
  },
  {
   "cell_type": "code",
   "execution_count": 62,
   "id": "7660c117-504b-4c83-aff3-ab1a9a40f05a",
   "metadata": {},
   "outputs": [],
   "source": [
    "tau_layer.contrast_limits = (1,10)"
   ]
  },
  {
   "cell_type": "code",
   "execution_count": 66,
   "id": "bed18c9c-511c-4195-8d55-fa0ee8863047",
   "metadata": {},
   "outputs": [
    {
     "data": {
      "text/plain": [
       "<matplotlib.image.AxesImage at 0x1961cb691c0>"
      ]
     },
     "execution_count": 66,
     "metadata": {},
     "output_type": "execute_result"
    },
    {
     "data": {
      "image/png": "[encoded data removed]",
      "text/plain": [
       "<Figure size 432x288 with 1 Axes>"
      ]
     },
     "metadata": {
      "needs_background": "light"
     },
     "output_type": "display_data"
    }
   ],
   "source": [
    "plt.imshow(np.linspace(0,256,2560).reshape([256,10]), cmap='gist_earth_r')"
   ]
  },
  {
   "cell_type": "markdown",
   "id": "6a5e307f-69a7-48de-9b6f-e0532811bde2",
   "metadata": {},
   "source": [
    "# Test in main thread"
   ]
  },
  {
   "cell_type": "code",
   "execution_count": 5,
   "id": "b9978ac7-82d4-4541-a7a6-22c232ab60e0",
   "metadata": {},
   "outputs": [
    {
     "name": "stdout",
     "output_type": "stream",
     "text": [
      "viewer already closed or never opened\n",
      "[]\n"
     ]
    }
   ],
   "source": [
    "stack1 = np.array(hf1.get(keys[0]))\n",
    "stack2 = np.array(hf1.get(keys[1]))\n",
    "# check if viewer is already open\n",
    "# if yes: close and reopen\n",
    "try:\n",
    "    if viewer:\n",
    "        viewer.close()\n",
    "except:\n",
    "    print(\"viewer already closed or never opened\")\n",
    "viewer = napari.Viewer(ndisplay=2)\n",
    "empty = np.zeros((256,256))\n",
    "tau_layer = viewer.add_image(empty, name = \"lifetimes\")\n",
    "A_layer = viewer.add_image(empty, name = \"intensities\")\n",
    "chisq_layer = viewer.add_image(empty, name = \"Χ² scores\")\n",
    "\n",
    "canvas = FigureCanvas(Figure(figsize=(5, 3)))\n",
    "(ax1, ax2) = canvas.figure.subplots(1,2)\n",
    "viewer.window.add_dock_widget(canvas, area='bottom', name='matplotlib figure')\n",
    "viewer.dims.events.current_step.connect(update_plots,position='last')\n",
    "\n",
    "cumulative_fitted_hist = []\n",
    "cumulative_not_fitted_hist = []\n",
    "cumulative_tau_display = []\n",
    "cumulative_A_display = []\n",
    "cumulative_chisq_display = []\n",
    "\n",
    "process_stack(stack1)\n",
    "update_window()\n"
   ]
  },
  {
   "cell_type": "code",
   "execution_count": 155,
   "id": "2782244d-6721-4bc9-95a0-45756de37724",
   "metadata": {},
   "outputs": [],
   "source": [
    "update_window(process_stack(stack2))"
   ]
  },
  {
   "cell_type": "code",
   "execution_count": 45,
   "id": "6f06cd4b-c129-4272-a487-6eae20449633",
   "metadata": {},
   "outputs": [
    {
     "data": {
      "text/plain": [
       "(0.6577898263931274, 0.5793812870979309, 7.025399208068848)"
      ]
     },
     "execution_count": 45,
     "metadata": {},
     "output_type": "execute_result"
    }
   ],
   "source": [
    "a = [0, 0, 0, 1, 1, 1, 0, 0, 1, 0, 0, 0, 0, 1, 0, 0, 0, 0, 1, 0, 0, 0, 0, 0, 0, 0, 0, 1, 0, 0, 0, 1, 0, 0, 1, 0, 0, 0, 0, 0, 0, 0, 0, 0, 0, 0, 0, 0, 0, 0, 0, 0, 0, 0, 0, 0, 0, 0, 0, 0, 0, 0, 0, 0, 0, 0, 0, 0, 0, 0, 0, 0, 0, 0, 0, 0, 0, 0, 0, 0, 0, 0, 0, 0, 0, 0, 0, 0, 0, 0, 0, 0, 0, 0, 0, 0, 0, 0, 0, 0, 0, 0, 0, 0, 0, 0, 0, 0, 0, 0, 0, 0, 0, 0, 0, 0, 0, 0, 0, 0, 0, 0, 0, 0, 0, 0, 0, 0, 0, 0, 0, 0, 0, 0, 0, 0, 0, 0, 0, 0, 0, 0, 0, 0, 0, 0, 0, 0, 0, 0, 0, 0, 0, 0, 0, 0, 0, 0, 0, 0]\n",
    "\n",
    "b = [0, 0, 1, 1, 0, 0, 0, 0, 0, 0, 0, 0, 0, 0, 0, 0, 0, 0, 0, 0, 0, 0, 1, 0, 0, 0, 0, 0, 0, 0, 0, 1, 0, 0, 0, 0, 0, 1, 0, 0, 0, 1, 0, 0, 0, 0, 0, 0, 1, 0, 0, 0, 0, 0, 0, 0, 0, 0, 0, 0, 0, 0, 0, 0, 0, 1, 0, 0, 1, 0, 0, 0, 0, 0, 0, 0, 0, 0, 0, 1, 0, 0, 0, 0, 0, 0, 0, 0, 0, 0, 0, 0, 0, 0, 0, 0, 0, 0, 0, 0, 1, 0, 0, 0, 0, 0, 0, 0, 0, 0, 0, 0, 0, 0, 0, 0, 0, 0, 0, 0, 0, 0, 0, 0, 0, 0, 0, 0, 0, 0, 1, 0, 0, 0, 0, 0, 0, 0, 0, 0, 0, 0, 0, 0, 0, 0, 0, 0, 0, 0, 0, 0, 0, 0, 0, 0, 0, 0, 0, 0]\n",
    "len(a)\n",
    "\n",
    "fit_RLD(a)"
   ]
  },
  {
   "cell_type": "code",
   "execution_count": 58,
   "id": "ca6ac240-7422-42bd-a867-27aa8975218c",
   "metadata": {},
   "outputs": [
    {
     "data": {
      "text/plain": [
       "7.025399208068848"
      ]
     },
     "execution_count": 58,
     "metadata": {},
     "output_type": "execute_result"
    }
   ],
   "source": [
    "rld_result = flimlib.GCI_triple_integral_fitting_engine(0.08,a,chisq_target=1.0)\n",
    "rld_result.chisq"
   ]
  },
  {
   "cell_type": "code",
   "execution_count": 1,
   "id": "82146bad-fa3e-4093-b9d8-4bdfc5318660",
   "metadata": {},
   "outputs": [],
   "source": [
    "import napari\n",
    "import numpy as np\n",
    "from skimage import data\n",
    "\n",
    "viewer = napari.view_image(data.astronaut(), rgb=True)\n",
    "points = np.array([[100, 100], [200, 200], [300, 100]])\n",
    "\n",
    "points_layer = viewer.add_points(points, size=30)"
   ]
  },
  {
   "cell_type": "code",
   "execution_count": null,
   "id": "f956754e-c3ff-4bc5-9289-67bd5adc281d",
   "metadata": {},
   "outputs": [],
   "source": []
  }
 ],
 "metadata": {
  "kernelspec": {
   "display_name": "Python 3",
   "language": "python",
   "name": "python3"
  },
  "language_info": {
   "codemirror_mode": {
    "name": "ipython",
    "version": 3
   },
   "file_extension": ".py",
   "mimetype": "text/x-python",
   "name": "python",
   "nbconvert_exporter": "python",
   "pygments_lexer": "ipython3",
   "version": "3.9.5"
  }
 },
 "nbformat": 4,
 "nbformat_minor": 5
}
